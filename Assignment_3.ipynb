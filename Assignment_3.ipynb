{
  "nbformat": 4,
  "nbformat_minor": 0,
  "metadata": {
    "colab": {
      "name": "Assignment 3.ipynb",
      "provenance": [],
      "collapsed_sections": []
    },
    "kernelspec": {
      "name": "python3",
      "display_name": "Python 3"
    }
  },
  "cells": [
    {
      "cell_type": "code",
      "metadata": {
        "id": "qls1Goydk6yF",
        "colab_type": "code",
        "colab": {}
      },
      "source": [
        ""
      ],
      "execution_count": 0,
      "outputs": []
    },
    {
      "cell_type": "markdown",
      "metadata": {
        "id": "siQZp7jnk-OA",
        "colab_type": "text"
      },
      "source": [
        "## Task 1:\n",
        "1.Write a function to compute 5/0 and use try/except to catch the exceptions"
      ]
    },
    {
      "cell_type": "code",
      "metadata": {
        "id": "_Veh_ZPQlDon",
        "colab_type": "code",
        "colab": {
          "base_uri": "https://localhost:8080/",
          "height": 35
        },
        "outputId": "d8113307-6396-467f-8f63-66e0ee5f56cb"
      },
      "source": [
        "def divide():\n",
        "    return 5/0\n",
        "\n",
        "try:\n",
        "    divide()\n",
        "except ZeroDivisionError as ze:\n",
        "    print(\"A number can not be divided by ZERO!!\")\n",
        "except:\n",
        "    print(\"Any other exception\")"
      ],
      "execution_count": 1,
      "outputs": [
        {
          "output_type": "stream",
          "text": [
            "A number can not be divided by ZERO!!\n"
          ],
          "name": "stdout"
        }
      ]
    },
    {
      "cell_type": "code",
      "metadata": {
        "id": "-Cwd6UzulK9U",
        "colab_type": "code",
        "colab": {}
      },
      "source": [
        ""
      ],
      "execution_count": 0,
      "outputs": []
    },
    {
      "cell_type": "markdown",
      "metadata": {
        "id": "qGpjzZT3lWJm",
        "colab_type": "text"
      },
      "source": [
        "# 2.Implement a Python program to generate all sentences where subject is in [\"Americans\", \"Indians\"] and verb is in [\"Play\", \"watch\"] and the object is in [\"Baseball\",\"cricket\"].\n",
        "###subjects=[\"Americans \",\"Indians\"]\n",
        "###verbs=[\"play\",\"watch\"]\n",
        "###objects=[\"Baseball\",\"Cricket\"]\n",
        "###Output should come as below:\n",
        "###Americans play Baseball.\n",
        "###Americans play Cricket.\n",
        "###Americans watch Baseball.\n",
        "###Americans watch Cricket.\n",
        "###Indians play Baseball.\n",
        "###Indians play Cricket.\n",
        "###Indians watch Baseball.\n",
        "###Indians watch Cricket.¶"
      ]
    },
    {
      "cell_type": "code",
      "metadata": {
        "id": "lat5p8LllRau",
        "colab_type": "code",
        "colab": {
          "base_uri": "https://localhost:8080/",
          "height": 163
        },
        "outputId": "60aa55d4-fcda-4635-92e6-10d3914fd241"
      },
      "source": [
        "subject=[\"Americans\", \"Indians\"]\n",
        "verb=[\"Play\", \"watch\"]\n",
        "obj=[\"Baseball\",\"cricket\"]\n",
        "\n",
        "# Use list comprehension instead of looping over each of the predicates\n",
        "sentence_list = [(sub+\" \"+ vb + \" \" + ob) for sub in subject for vb in verb for ob in obj]\n",
        "for sentence in sentence_list:\n",
        "    print(sentence)"
      ],
      "execution_count": 2,
      "outputs": [
        {
          "output_type": "stream",
          "text": [
            "Americans Play Baseball\n",
            "Americans Play cricket\n",
            "Americans watch Baseball\n",
            "Americans watch cricket\n",
            "Indians Play Baseball\n",
            "Indians Play cricket\n",
            "Indians watch Baseball\n",
            "Indians watch cricket\n"
          ],
          "name": "stdout"
        }
      ]
    },
    {
      "cell_type": "code",
      "metadata": {
        "id": "efuHGdipmFhV",
        "colab_type": "code",
        "colab": {}
      },
      "source": [
        ""
      ],
      "execution_count": 0,
      "outputs": []
    },
    {
      "cell_type": "markdown",
      "metadata": {
        "id": "D4PluTGtmJTC",
        "colab_type": "text"
      },
      "source": [
        "## Task 2:\n",
        "1.Write a function so that the columns of the output matrix are powers of the input vector.The order of the powers is determined by the increasing boolean argument. Specifically, whenincreasing is False, the i-th output column is the input vector raised element-wise to the power of N - i - 1."
      ]
    },
    {
      "cell_type": "code",
      "metadata": {
        "id": "4BWoq-GdmL_U",
        "colab_type": "code",
        "colab": {
          "base_uri": "https://localhost:8080/",
          "height": 90
        },
        "outputId": "5f2cd7fc-9547-40fc-9220-02fdc9f07c3b"
      },
      "source": [
        "\n",
        "import numpy as np\n",
        "\n",
        "arr = np.array([1,2,3,4])\n",
        "n = 5\n",
        "np.vander(arr,n)"
      ],
      "execution_count": 3,
      "outputs": [
        {
          "output_type": "execute_result",
          "data": {
            "text/plain": [
              "array([[  1,   1,   1,   1,   1],\n",
              "       [ 16,   8,   4,   2,   1],\n",
              "       [ 81,  27,   9,   3,   1],\n",
              "       [256,  64,  16,   4,   1]])"
            ]
          },
          "metadata": {
            "tags": []
          },
          "execution_count": 3
        }
      ]
    },
    {
      "cell_type": "code",
      "metadata": {
        "id": "-gnz4zmWmRd7",
        "colab_type": "code",
        "colab": {
          "base_uri": "https://localhost:8080/",
          "height": 90
        },
        "outputId": "e3d4b260-eac8-46fd-8266-dfec2e5e7e1f"
      },
      "source": [
        "np.vander(arr)"
      ],
      "execution_count": 4,
      "outputs": [
        {
          "output_type": "execute_result",
          "data": {
            "text/plain": [
              "array([[ 1,  1,  1,  1],\n",
              "       [ 8,  4,  2,  1],\n",
              "       [27,  9,  3,  1],\n",
              "       [64, 16,  4,  1]])"
            ]
          },
          "metadata": {
            "tags": []
          },
          "execution_count": 4
        }
      ]
    },
    {
      "cell_type": "code",
      "metadata": {
        "id": "heTdriQ4mdjL",
        "colab_type": "code",
        "colab": {}
      },
      "source": [
        ""
      ],
      "execution_count": 0,
      "outputs": []
    }
  ]
}